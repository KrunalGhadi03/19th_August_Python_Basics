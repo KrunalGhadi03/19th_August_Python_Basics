{
 "cells": [
  {
   "cell_type": "markdown",
   "id": "c5df8ec1-fae1-48dc-a1e3-d08114797d40",
   "metadata": {},
   "source": [
    "TOPIC: Python Basics Variable"
   ]
  },
  {
   "cell_type": "markdown",
   "id": "d05bdd7e-08ae-46a2-bd40-6f11bfb87bf7",
   "metadata": {},
   "source": [
    "1. Declare two variables, `x` and `y`, and assign them integer values. Swap the values of these variables without using any temporary variable."
   ]
  },
  {
   "cell_type": "code",
   "execution_count": 7,
   "id": "7e1bcc41-b3f6-4a0d-96e0-b135620cabbc",
   "metadata": {},
   "outputs": [
    {
     "name": "stdout",
     "output_type": "stream",
     "text": [
      "65 89\n"
     ]
    }
   ],
   "source": [
    "x = 65\n",
    "y = 89\n",
    "print(x,y)"
   ]
  },
  {
   "cell_type": "code",
   "execution_count": 8,
   "id": "992b158f-d8ae-4a28-9580-7d4ffbb844c3",
   "metadata": {},
   "outputs": [
    {
     "name": "stdout",
     "output_type": "stream",
     "text": [
      "89 65\n"
     ]
    }
   ],
   "source": [
    "y, x = x, y\n",
    "print(x,y)"
   ]
  },
  {
   "cell_type": "markdown",
   "id": "d640d03a-d752-4ff4-96a5-5ea447455a10",
   "metadata": {},
   "source": [
    "2. Create a program that calculates the area of a rectangle. Take the length and\n",
    "width as inputs from the user and store them in variables. Calculate and\n",
    "display the area.\n"
   ]
  },
  {
   "cell_type": "code",
   "execution_count": 12,
   "id": "96521c5f-792d-415c-b787-05f0805ef29f",
   "metadata": {},
   "outputs": [
    {
     "name": "stdout",
     "output_type": "stream",
     "text": [
      "Enter lenght of Rectangle in m\n"
     ]
    },
    {
     "name": "stdin",
     "output_type": "stream",
     "text": [
      " 6.7\n"
     ]
    },
    {
     "name": "stdout",
     "output_type": "stream",
     "text": [
      "Enter width of Rectangle in m\n"
     ]
    },
    {
     "name": "stdin",
     "output_type": "stream",
     "text": [
      " 8.9\n"
     ]
    },
    {
     "name": "stdout",
     "output_type": "stream",
     "text": [
      "Area of rectangle is 59.63  m-sq\n"
     ]
    }
   ],
   "source": [
    "print('Enter lenght of Rectangle in m')\n",
    "rec_length = float(input())               # used type casting to change data type from str to float\n",
    "print('Enter width of Rectangle in m')\n",
    "rec_width = float(input())\n",
    "rec_area = rec_length * rec_width\n",
    "print('Area of rectangle is', rec_area,' m-sq')"
   ]
  },
  {
   "cell_type": "markdown",
   "id": "e9c06b9f-8085-46fd-8b89-2eb31055b1b4",
   "metadata": {},
   "source": [
    "3. Write a Python program that converts temperatures from Celsius to\n",
    "Fahrenheit. Take the temperature in Celsius as input, store it in a variable,\n",
    "convert it to Fahrenheit, and display the result."
   ]
  },
  {
   "cell_type": "code",
   "execution_count": 15,
   "id": "16656887-a649-4949-a93f-4807e0dafc37",
   "metadata": {},
   "outputs": [
    {
     "name": "stdout",
     "output_type": "stream",
     "text": [
      "Enter Temperature in Celsius\n"
     ]
    },
    {
     "name": "stdin",
     "output_type": "stream",
     "text": [
      " 77.9\n"
     ]
    },
    {
     "name": "stdout",
     "output_type": "stream",
     "text": [
      "Equivalent temperature in Fahrenheit is  172.22000000000003\n"
     ]
    }
   ],
   "source": [
    "print('Enter Temperature in Celsius')\n",
    "temp_celsius = float(input())\n",
    "temp_fahrenheit = temp_celsius * 1.8 + 32 # here 1.8 = 9/5\n",
    "print('Equivalent temperature in Fahrenheit is ', temp_fahrenheit)"
   ]
  },
  {
   "cell_type": "markdown",
   "id": "749ed63c-b8e0-4106-97a9-7f97cfb915ad",
   "metadata": {},
   "source": [
    "TOPIC: String Based Questions"
   ]
  },
  {
   "cell_type": "markdown",
   "id": "2cbb6bc0-409d-4314-aa9e-fa58597948f4",
   "metadata": {},
   "source": [
    "1. Write a Python program that takes a string as input and prints the length of\n",
    "the string."
   ]
  },
  {
   "cell_type": "code",
   "execution_count": 5,
   "id": "400cf0fd-4125-4bcf-829e-9f43245c9a00",
   "metadata": {},
   "outputs": [
    {
     "name": "stdin",
     "output_type": "stream",
     "text": [
      "Enter string here: krunal ghadi\n"
     ]
    },
    {
     "name": "stdout",
     "output_type": "stream",
     "text": [
      "the length of string you enter is 12\n"
     ]
    }
   ],
   "source": [
    "strn = input('Enter string here:')\n",
    "print(f'the length of string you enter is {len(strn)}')"
   ]
  },
  {
   "cell_type": "markdown",
   "id": "d10d883a-cf02-4feb-94a8-ba30eb3a5cf5",
   "metadata": {},
   "source": [
    "2. Create a program that takes a sentence from the user and counts the number\n",
    "of vowels (a, e, i, o, u) in the string.\n"
   ]
  },
  {
   "cell_type": "code",
   "execution_count": 10,
   "id": "268d3294-2da8-4c61-8b4b-df9f554fc3f4",
   "metadata": {},
   "outputs": [
    {
     "name": "stdin",
     "output_type": "stream",
     "text": [
      "Enter sentence: enjoing learing data science\n"
     ]
    },
    {
     "name": "stdout",
     "output_type": "stream",
     "text": [
      "11 vowels present in the sentence\n"
     ]
    }
   ],
   "source": [
    "user_sen = input('Enter sentence:')\n",
    "vowels = 'AEIOUaeiou'\n",
    "count = 0\n",
    "for i in user_sen :\n",
    "    if i in vowels:\n",
    "        count+=1\n",
    "print(f'{count} vowels present in the sentence')\n"
   ]
  },
  {
   "cell_type": "markdown",
   "id": "f41c924f-8fe7-4a5a-a2de-0e2bcf62738b",
   "metadata": {},
   "source": [
    "3. Given a string, reverse the order of characters using string slicing and print\n",
    "the reversed string.\n"
   ]
  },
  {
   "cell_type": "code",
   "execution_count": 4,
   "id": "1e37b528-07fc-44aa-a14c-4b852315e083",
   "metadata": {},
   "outputs": [
    {
     "name": "stdin",
     "output_type": "stream",
     "text": [
      "Enter string here: pwskills\n"
     ]
    },
    {
     "name": "stdout",
     "output_type": "stream",
     "text": [
      "revers of string that you enter look like sllikswp\n"
     ]
    }
   ],
   "source": [
    "string = input('Enter string here:')\n",
    "reverse_string = string[::-1]\n",
    "print(f'revers of string that you enter look like {reverse_string}')\n",
    "               \n",
    "            "
   ]
  },
  {
   "cell_type": "markdown",
   "id": "b9acc238-1d27-41fe-a675-6798eb1498af",
   "metadata": {},
   "source": [
    "4. Write a program that takes a string as input and checks if it is a palindrome\n",
    "(reads the same forwards and backwards).\n"
   ]
  },
  {
   "cell_type": "code",
   "execution_count": 8,
   "id": "07b0fca6-e60b-44b5-ad21-9f3d05543197",
   "metadata": {},
   "outputs": [
    {
     "name": "stdin",
     "output_type": "stream",
     "text": [
      "Enter string to check palindrome : pwswp\n"
     ]
    },
    {
     "name": "stdout",
     "output_type": "stream",
     "text": [
      "pwswp is palindrome\n"
     ]
    }
   ],
   "source": [
    "string = input('Enter string to check palindrome :')\n",
    "reverse_string = string[::-1]\n",
    "if string == reverse_string :\n",
    "    print(f'{string} is palindrome')\n",
    "else:\n",
    "    print(f'{string} is not palindrome')"
   ]
  },
  {
   "cell_type": "markdown",
   "id": "699e29bd-2350-44f5-8789-63d50edb10be",
   "metadata": {},
   "source": [
    "5. Create a program that takes a string as input and removes all the spaces from\n",
    "it. Print the modified string without spaces."
   ]
  },
  {
   "cell_type": "code",
   "execution_count": 10,
   "id": "762e121f-b96e-4173-a30c-7255b5244a2e",
   "metadata": {},
   "outputs": [
    {
     "name": "stdin",
     "output_type": "stream",
     "text": [
      "Enter string here: i wanted to become a data scientist\n"
     ]
    },
    {
     "name": "stdout",
     "output_type": "stream",
     "text": [
      "Modified string is iwantedtobecomeadatascientist\n"
     ]
    }
   ],
   "source": [
    "strn = input('Enter string here:')\n",
    "modi_strn = strn.replace(' ', '')\n",
    "print(f'Modified string is {modi_strn}')"
   ]
  },
  {
   "cell_type": "code",
   "execution_count": null,
   "id": "7b630ca6-99a5-4586-802e-945283bcb9c9",
   "metadata": {},
   "outputs": [],
   "source": []
  }
 ],
 "metadata": {
  "kernelspec": {
   "display_name": "Python 3 (ipykernel)",
   "language": "python",
   "name": "python3"
  },
  "language_info": {
   "codemirror_mode": {
    "name": "ipython",
    "version": 3
   },
   "file_extension": ".py",
   "mimetype": "text/x-python",
   "name": "python",
   "nbconvert_exporter": "python",
   "pygments_lexer": "ipython3",
   "version": "3.10.8"
  }
 },
 "nbformat": 4,
 "nbformat_minor": 5
}
